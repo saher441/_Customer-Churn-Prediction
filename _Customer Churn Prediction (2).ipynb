{
 "cells": [
  {
   "cell_type": "markdown",
   "id": "3e3d00bd-9230-4d0e-9f87-2abc62b8758d",
   "metadata": {},
   "source": [
    "## Customer Churn Prediction Project\n",
    "### By saher — ITI Power BI Track, Data Mining Course"
   ]
  },
  {
   "cell_type": "markdown",
   "id": "509f7c0c-faf7-4281-a089-de3b7196ce40",
   "metadata": {},
   "source": [
    "##  1. Import Libraries"
   ]
  },
  {
   "cell_type": "code",
   "execution_count": 12,
   "id": "9a8596f1-e1ed-49f3-8f07-8fc10e396b48",
   "metadata": {},
   "outputs": [],
   "source": [
    "import pandas as pd\n",
    "import matplotlib.pyplot as plt\n",
    "import seaborn as sns\n",
    "from sklearn.model_selection import train_test_split\n",
    "from sklearn.naive_bayes import GaussianNB\n",
    "from sklearn.metrics import accuracy_score, confusion_matrix"
   ]
  },
  {
   "cell_type": "markdown",
   "id": "98ddf3b5-fa7f-4865-985a-3a9f9d2b9457",
   "metadata": {},
   "source": [
    "## 2.Load the Dataset"
   ]
  },
  {
   "cell_type": "code",
   "execution_count": 13,
   "id": "8b5a0d47-eb50-4c48-8499-5943cdbbd178",
   "metadata": {},
   "outputs": [
    {
     "name": "stdout",
     "output_type": "stream",
     "text": [
      "   Age  Tenure     Sex Churn\n",
      "0   56       8    Male    No\n",
      "1   46      63  Female    No\n",
      "2   32      11  Female    No\n",
      "3   60       8    Male    No\n",
      "4   25      35    Male    No\n"
     ]
    }
   ],
   "source": [
    "data = pd.read_excel('churn_dataset.xlsx')\n",
    "print(data.head())"
   ]
  },
  {
   "cell_type": "markdown",
   "id": "c5a5f408-ca77-405d-b9fe-492c058217bf",
   "metadata": {},
   "source": [
    "## 3. Data Preprocessing\n",
    "#### Encode “Sex” & “Churn” to numeric\n",
    "#### Check & handle missing values"
   ]
  },
  {
   "cell_type": "code",
   "execution_count": 28,
   "id": "d15f6834-ddac-4f54-b749-846f17cdf73f",
   "metadata": {},
   "outputs": [
    {
     "data": {
      "text/html": [
       "<div>\n",
       "<style scoped>\n",
       "    .dataframe tbody tr th:only-of-type {\n",
       "        vertical-align: middle;\n",
       "    }\n",
       "\n",
       "    .dataframe tbody tr th {\n",
       "        vertical-align: top;\n",
       "    }\n",
       "\n",
       "    .dataframe thead th {\n",
       "        text-align: right;\n",
       "    }\n",
       "</style>\n",
       "<table border=\"1\" class=\"dataframe\">\n",
       "  <thead>\n",
       "    <tr style=\"text-align: right;\">\n",
       "      <th></th>\n",
       "      <th>Age</th>\n",
       "      <th>Tenure</th>\n",
       "      <th>Sex</th>\n",
       "      <th>Churn</th>\n",
       "    </tr>\n",
       "  </thead>\n",
       "  <tbody>\n",
       "    <tr>\n",
       "      <th>0</th>\n",
       "      <td>56</td>\n",
       "      <td>8</td>\n",
       "      <td>1</td>\n",
       "      <td>0</td>\n",
       "    </tr>\n",
       "    <tr>\n",
       "      <th>1</th>\n",
       "      <td>46</td>\n",
       "      <td>63</td>\n",
       "      <td>0</td>\n",
       "      <td>0</td>\n",
       "    </tr>\n",
       "    <tr>\n",
       "      <th>2</th>\n",
       "      <td>32</td>\n",
       "      <td>11</td>\n",
       "      <td>0</td>\n",
       "      <td>0</td>\n",
       "    </tr>\n",
       "    <tr>\n",
       "      <th>3</th>\n",
       "      <td>60</td>\n",
       "      <td>8</td>\n",
       "      <td>1</td>\n",
       "      <td>0</td>\n",
       "    </tr>\n",
       "    <tr>\n",
       "      <th>4</th>\n",
       "      <td>25</td>\n",
       "      <td>35</td>\n",
       "      <td>1</td>\n",
       "      <td>0</td>\n",
       "    </tr>\n",
       "  </tbody>\n",
       "</table>\n",
       "</div>"
      ],
      "text/plain": [
       "   Age  Tenure  Sex  Churn\n",
       "0   56       8    1      0\n",
       "1   46      63    0      0\n",
       "2   32      11    0      0\n",
       "3   60       8    1      0\n",
       "4   25      35    1      0"
      ]
     },
     "execution_count": 28,
     "metadata": {},
     "output_type": "execute_result"
    }
   ],
   "source": [
    "from sklearn.preprocessing import LabelEncoder\n",
    "label_encoder = LabelEncoder()\n",
    "data['Sex'] = label_encoder.fit_transform(data['Sex'])\n",
    "data['Churn'] = label_encoder.fit_transform(data['Churn'])\n",
    "data.head()\n"
   ]
  },
  {
   "cell_type": "code",
   "execution_count": 29,
   "id": "8db46030-0eca-47c7-b3c3-e8b2b6f50520",
   "metadata": {},
   "outputs": [
    {
     "name": "stdout",
     "output_type": "stream",
     "text": [
      "Age       0\n",
      "Tenure    0\n",
      "Sex       0\n",
      "Churn     0\n",
      "dtype: int64\n"
     ]
    }
   ],
   "source": [
    "print(data.isnull().sum())"
   ]
  },
  {
   "cell_type": "markdown",
   "id": "2cfaf006-b217-4f24-a5b3-5190c2770e4f",
   "metadata": {},
   "source": [
    "### 4. Split into Train & Test Sets"
   ]
  },
  {
   "cell_type": "code",
   "execution_count": 30,
   "id": "c8456b68-4936-489a-91a7-c7303f750bfa",
   "metadata": {
    "scrolled": true
   },
   "outputs": [
    {
     "name": "stdout",
     "output_type": "stream",
     "text": [
      "   Age  Tenure  Sex\n",
      "0   56       8    1\n",
      "1   46      63    0\n",
      "2   32      11    0\n",
      "3   60       8    1\n",
      "4   25      35    1\n",
      "0    0\n",
      "1    0\n",
      "2    0\n",
      "3    0\n",
      "4    0\n",
      "Name: Churn, dtype: int64\n"
     ]
    }
   ],
   "source": [
    "X = data[['Age', 'Tenure', 'Sex']]\n",
    "y = data['Churn']\n",
    "\n",
    "print(X.head())\n",
    "print(y.head())"
   ]
  },
  {
   "cell_type": "code",
   "execution_count": 31,
   "id": "f7983798-c25e-4f82-8efc-b45c00515a77",
   "metadata": {},
   "outputs": [
    {
     "name": "stdout",
     "output_type": "stream",
     "text": [
      "Shape of data before split: (100, 4)\n"
     ]
    }
   ],
   "source": [
    "print(\"Shape of data before split:\", data.shape)"
   ]
  },
  {
   "cell_type": "markdown",
   "id": "d3a33223-6b67-40bc-bc3b-b03be23504c3",
   "metadata": {},
   "source": [
    "### 5. Train Naive Bayes Model"
   ]
  },
  {
   "cell_type": "code",
   "execution_count": 32,
   "id": "ea77ab29-7102-40da-a4b7-52d12769f5b3",
   "metadata": {},
   "outputs": [
    {
     "name": "stdout",
     "output_type": "stream",
     "text": [
      "(80, 3) (20, 3)\n"
     ]
    }
   ],
   "source": [
    "X_train, X_test, y_train, y_test = train_test_split(X, y, test_size=0.2, random_state=42)\n",
    "print(X_train.shape, X_test.shape)"
   ]
  },
  {
   "cell_type": "code",
   "execution_count": 33,
   "id": "c5530fbe-1d19-479b-8c42-5e91f055bf3b",
   "metadata": {},
   "outputs": [
    {
     "name": "stdout",
     "output_type": "stream",
     "text": [
      "Confusion Matrix:\n",
      " [[16  0]\n",
      " [ 4  0]]\n"
     ]
    }
   ],
   "source": [
    "cm = confusion_matrix(y_test, y_pred)\n",
    "print(\"Confusion Matrix:\\n\", cm)"
   ]
  },
  {
   "cell_type": "markdown",
   "id": "62cf2be6-9d0b-4b1b-bd8b-c2b4446e657d",
   "metadata": {},
   "source": [
    "### 6. Evaluate Model"
   ]
  },
  {
   "cell_type": "code",
   "execution_count": 34,
   "id": "f515c894-44f5-4a52-af8f-a7485d5ee6eb",
   "metadata": {},
   "outputs": [
    {
     "name": "stdout",
     "output_type": "stream",
     "text": [
      "Model trained successfully!\n"
     ]
    }
   ],
   "source": [
    "model = GaussianNB()\n",
    "model.fit(X_train, y_train)\n",
    "print(\"Model trained successfully!\")"
   ]
  },
  {
   "cell_type": "code",
   "execution_count": 35,
   "id": "9ce1c4fc-7a11-48f6-b971-9951006d6cb4",
   "metadata": {},
   "outputs": [],
   "source": [
    "y_pred = model.predict(X_test)"
   ]
  },
  {
   "cell_type": "code",
   "execution_count": 36,
   "id": "403c19fc-06c8-4858-97ee-1c04423a6935",
   "metadata": {},
   "outputs": [
    {
     "name": "stdout",
     "output_type": "stream",
     "text": [
      "Accuracy: 80.00%\n"
     ]
    }
   ],
   "source": [
    "accuracy = accuracy_score(y_test, y_pred)\n",
    "print(f\"Accuracy: {accuracy*100:.2f}%\")"
   ]
  },
  {
   "cell_type": "code",
   "execution_count": 38,
   "id": "09355d3f-b57c-47dc-80cd-55c8621e7937",
   "metadata": {},
   "outputs": [
    {
     "data": {
      "image/png": "[encoded data removed]",
      "text/plain": [
       "<Figure size 640x480 with 2 Axes>"
      ]
     },
     "metadata": {},
     "output_type": "display_data"
    }
   ],
   "source": [
    "sns.heatmap(cm, annot=True, fmt='d')\n",
    "plt.xlabel('Predicted')\n",
    "plt.ylabel('Actual')\n",
    "plt.title('Confusion Matrix')\n",
    "plt.show()\n"
   ]
  },
  {
   "cell_type": "code",
   "execution_count": null,
   "id": "b5bda5f2-c56c-450a-91fe-76346f662c9c",
   "metadata": {},
   "outputs": [],
   "source": []
  }
 ],
 "metadata": {
  "kernelspec": {
   "display_name": "Python 3 (ipykernel)",
   "language": "python",
   "name": "python3"
  },
  "language_info": {
   "codemirror_mode": {
    "name": "ipython",
    "version": 3
   },
   "file_extension": ".py",
   "mimetype": "text/x-python",
   "name": "python",
   "nbconvert_exporter": "python",
   "pygments_lexer": "ipython3",
   "version": "3.13.2"
  }
 },
 "nbformat": 4,
 "nbformat_minor": 5
}
